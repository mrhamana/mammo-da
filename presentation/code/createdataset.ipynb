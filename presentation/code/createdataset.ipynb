{
 "cells": [
  {
   "cell_type": "code",
   "execution_count": 1,
   "metadata": {},
   "outputs": [
    {
     "name": "stdout",
     "output_type": "stream",
     "text": [
      "Fabricated dataset created and saved to fabricated_breast_country.csv\n"
     ]
    }
   ],
   "source": [
    "import pandas as pd\n",
    "import numpy as np\n",
    "\n",
    "# Set the number of data points\n",
    "num_data = 50\n",
    "\n",
    "# Generate a range of population codes\n",
    "population_codes = np.arange(1, num_data + 1)\n",
    "\n",
    "# Generate GDP values with a positive correlation to ASR\n",
    "gdp_values = np.linspace(20000, 80000, num_data)  # GDP ranging from 20k to 80k\n",
    "\n",
    "# Generate ASR values with a positive correlation to GDP\n",
    "asr_values = 0.0015 * gdp_values + np.random.normal(0, 5, num_data)  # ASR = 0.0015*GDP + noise\n",
    "\n",
    "# Ensure ASR values are non-negative\n",
    "asr_values = np.maximum(asr_values, 0)\n",
    "\n",
    "# Create the DataFrame\n",
    "data = {\n",
    "    'Cancer id': np.arange(1, num_data + 1),\n",
    "    'Cancer label': ['Breast Cancer'] * num_data,\n",
    "    'Population code (ISO/UN)': population_codes,\n",
    "    'Population': np.random.randint(1000000, 10000000, num_data),\n",
    "    'Alpha‑3 code': ['ABC'] * num_data,  # Placeholder\n",
    "    'Sex': ['Both'] * num_data,\n",
    "    'Type': ['Incidence'] * num_data,\n",
    "    'ASR (World) per 100 000': asr_values\n",
    "}\n",
    "\n",
    "df = pd.DataFrame(data)\n",
    "\n",
    "# Save to CSV\n",
    "df.to_csv('fabricated_breast_country.csv', index=False)\n",
    "\n",
    "print(\"Fabricated dataset created and saved to fabricated_breast_country.csv\")"
   ]
  }
 ],
 "metadata": {
  "kernelspec": {
   "display_name": "venv",
   "language": "python",
   "name": "python3"
  },
  "language_info": {
   "codemirror_mode": {
    "name": "ipython",
    "version": 3
   },
   "file_extension": ".py",
   "mimetype": "text/x-python",
   "name": "python",
   "nbconvert_exporter": "python",
   "pygments_lexer": "ipython3",
   "version": "3.13.1"
  }
 },
 "nbformat": 4,
 "nbformat_minor": 2
}
