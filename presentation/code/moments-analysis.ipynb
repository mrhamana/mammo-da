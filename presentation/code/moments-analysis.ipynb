{
 "cells": [
  {
   "cell_type": "code",
   "execution_count": 3,
   "metadata": {},
   "outputs": [],
   "source": [
    "import sys\n",
    "sys.path.append('../../pythonside')\n",
    "\n",
    "import extract_data as ed\n",
    "import numpy as np\n",
    "from functions import (\n",
    "    central_moments,\n",
    "    raw_moments\n",
    ")"
   ]
  },
  {
   "cell_type": "code",
   "execution_count": 4,
   "metadata": {},
   "outputs": [],
   "source": [
    "file='../../data/breast-country.csv'\n",
    "column_name, asr_data = ed.extractinfo(file, [7, 'ASR (World) per 100 000'])"
   ]
  },
  {
   "cell_type": "code",
   "execution_count": 5,
   "metadata": {},
   "outputs": [
    {
     "name": "stdout",
     "output_type": "stream",
     "text": [
      "=== MOMENTS ANALYSIS ===\n",
      "Central Moment (3rd order): 5830.607\n",
      "Central Moment (4th order): 949064.310\n",
      "Raw Moment (2nd order): 2885.890\n"
     ]
    }
   ],
   "source": [
    "# Calculate Central Moments\n",
    "asr_central_moment_3 = central_moments(3, asr_data)\n",
    "asr_central_moment_4 = central_moments(4, asr_data)\n",
    "\n",
    "# Calculate Raw Moments\n",
    "asr_raw_moment_2 = raw_moments(2, asr_data)\n",
    "\n",
    "# Print the results\n",
    "print(\"=== MOMENTS ANALYSIS ===\")\n",
    "print(f\"Central Moment (3rd order): {asr_central_moment_3:.3f}\")\n",
    "print(f\"Central Moment (4th order): {asr_central_moment_4:.3f}\")\n",
    "print(f\"Raw Moment (2nd order): {asr_raw_moment_2:.3f}\")"
   ]
  }
 ],
 "metadata": {
  "kernelspec": {
   "display_name": "venv",
   "language": "python",
   "name": "python3"
  },
  "language_info": {
   "codemirror_mode": {
    "name": "ipython",
    "version": 3
   },
   "file_extension": ".py",
   "mimetype": "text/x-python",
   "name": "python",
   "nbconvert_exporter": "python",
   "pygments_lexer": "ipython3",
   "version": "3.13.1"
  }
 },
 "nbformat": 4,
 "nbformat_minor": 2
}
