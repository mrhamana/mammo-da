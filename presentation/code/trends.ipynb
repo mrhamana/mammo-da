{
 "cells": [
  {
   "cell_type": "code",
   "execution_count": 1,
   "metadata": {},
   "outputs": [],
   "source": [
    "# %%\n",
    "import sys\n",
    "sys.path.append('../../pythonside')\n",
    "\n",
    "import numpy as np\n",
    "import pandas as pd\n",
    "import extract_data as ed\n",
    "from functions import (\n",
    "    correlation, regression_slope, covariance, \n",
    "    y_intercept, coefficient_sd\n",
    ")\n",
    "import graph as gh\n",
    "import matplotlib.pyplot as plt"
   ]
  },
  {
   "cell_type": "code",
   "execution_count": null,
   "metadata": {},
   "outputs": [],
   "source": [
    "breast_data = pd.read_csv('../../data/breast-country.csv')\n",
    "print(breast_data.columns)  # Print the column names"
   ]
  },
  {
   "cell_type": "code",
   "execution_count": 3,
   "metadata": {},
   "outputs": [],
   "source": [
    "# %%\n",
    "# Load breast cancer data\n",
    "breast_data = pd.read_csv('../../data/breast-country.csv')\n",
    "\n",
    "# Load GDP data\n",
    "gdp_data = pd.read_csv('../../data/gdp.csv', skiprows=4)"
   ]
  },
  {
   "cell_type": "code",
   "execution_count": 10,
   "metadata": {},
   "outputs": [
    {
     "name": "stdout",
     "output_type": "stream",
     "text": [
      "Unique breast_clean['Population code (ISO/UN)']: ['4' '8' '12' '24' '31' '32' '36' '40' '44' '48' '50' '51' '52' '56' '64'\n",
      " '68' '70' '72' '76' '84' '90' '96' '100' '104' '108' '112' '116' '120'\n",
      " '124' '132' '140' '144' '148' '152' '156' '170' '174' '178' '180' '188'\n",
      " '191' '192' '196' '203' '204' '208' '214' '218' '222' '226' '231' '232'\n",
      " '233' '242' '246' '250' '254' '258' '262' '266' '268' '270' '275' '276'\n",
      " '288' '300' '312' '316' '320' '324' '328' '332' '340' '348' '352' '356'\n",
      " '360' '364' '368' '372' '376' '380' '384' '388' '392' '398' '400' '404'\n",
      " '408' '410' '414' '417' '418' '422' '426' '428' '430' '434' '440' '442'\n",
      " '450' '454' '458' '462' '466' '470' '474' '478' '480' '484' '496' '498'\n",
      " '499' '504' '508' '512' '516' '524' '528' '540' '548' '554' '558' '562'\n",
      " '566' '578' '586' '591' '598' '600' '604' '608' '616' '620' '624' '626'\n",
      " '630' '634' '638' '642' '643' '646' '662' '678' '682' '686' '688' '694'\n",
      " '702' '703' '704' '705' '706' '710' '716' '724' '728' '729' '740' '748'\n",
      " '752' '756' '760' '762' '764' '768' '780' '784' '788' '792' '795' '800'\n",
      " '804' '807' '818' '826' '834' '840' '854' '858' '860' '862' '882' '887'\n",
      " '894']\n",
      "Unique gdp_clean['Country Code']: ['ABW' 'AFE' 'AFG' 'AFW' 'AGO' 'ALB' 'AND' 'ARB' 'ARE' 'ARG' 'ARM' 'ASM'\n",
      " 'ATG' 'AUS' 'AUT' 'AZE' 'BDI' 'BEL' 'BEN' 'BFA' 'BGD' 'BGR' 'BHR' 'BHS'\n",
      " 'BIH' 'BLR' 'BLZ' 'BMU' 'BOL' 'BRA' 'BRB' 'BRN' 'BTN' 'BWA' 'CAF' 'CAN'\n",
      " 'CEB' 'CHE' 'CHI' 'CHL' 'CHN' 'CIV' 'CMR' 'COD' 'COG' 'COL' 'COM' 'CPV'\n",
      " 'CRI' 'CSS' 'CUB' 'CUW' 'CYM' 'CYP' 'CZE' 'DEU' 'DJI' 'DMA' 'DNK' 'DOM'\n",
      " 'DZA' 'EAP' 'EAR' 'EAS' 'ECA' 'ECS' 'ECU' 'EGY' 'EMU' 'ERI' 'ESP' 'EST'\n",
      " 'ETH' 'EUU' 'FCS' 'FIN' 'FJI' 'FRA' 'FRO' 'FSM' 'GAB' 'GBR' 'GEO' 'GHA'\n",
      " 'GIB' 'GIN' 'GMB' 'GNB' 'GNQ' 'GRC' 'GRD' 'GRL' 'GTM' 'GUM' 'GUY' 'HIC'\n",
      " 'HKG' 'HND' 'HPC' 'HRV' 'HTI' 'HUN' 'IBD' 'IBT' 'IDA' 'IDB' 'IDN' 'IDX'\n",
      " 'IMN' 'IND' 'INX' 'IRL' 'IRN' 'IRQ' 'ISL' 'ISR' 'ITA' 'JAM' 'JOR' 'JPN'\n",
      " 'KAZ' 'KEN' 'KGZ' 'KHM' 'KIR' 'KNA' 'KOR' 'KWT' 'LAC' 'LAO' 'LBN' 'LBR'\n",
      " 'LBY' 'LCA' 'LCN' 'LDC' 'LIC' 'LIE' 'LKA' 'LMC' 'LMY' 'LSO' 'LTE' 'LTU'\n",
      " 'LUX' 'LVA' 'MAC' 'MAF' 'MAR' 'MCO' 'MDA' 'MDG' 'MDV' 'MEA' 'MEX' 'MHL'\n",
      " 'MIC' 'MKD' 'MLI' 'MLT' 'MMR' 'MNA' 'MNE' 'MNG' 'MNP' 'MOZ' 'MRT' 'MUS'\n",
      " 'MWI' 'MYS' 'NAC' 'NAM' 'NCL' 'NER' 'NGA' 'NIC' 'NLD' 'NOR' 'NPL' 'NRU'\n",
      " 'NZL' 'OED' 'OMN' 'OSS' 'PAK' 'PAN' 'PER' 'PHL' 'PLW' 'PNG' 'POL' 'PRE'\n",
      " 'PRI' 'PRK' 'PRT' 'PRY' 'PSE' 'PSS' 'PST' 'PYF' 'QAT' 'ROU' 'RUS' 'RWA'\n",
      " 'SAS' 'SAU' 'SDN' 'SEN' 'SGP' 'SLB' 'SLE' 'SLV' 'SMR' 'SOM' 'SRB' 'SSA'\n",
      " 'SSD' 'SSF' 'SST' 'STP' 'SUR' 'SVK' 'SVN' 'SWE' 'SWZ' 'SXM' 'SYC' 'SYR'\n",
      " 'TCA' 'TCD' 'TEA' 'TEC' 'TGO' 'THA' 'TJK' 'TKM' 'TLA' 'TLS' 'TMN' 'TON'\n",
      " 'TSA' 'TSS' 'TTO' 'TUN' 'TUR' 'TUV' 'TZA' 'UGA' 'UKR' 'UMC' 'URY' 'USA'\n",
      " 'UZB' 'VCT' 'VEN' 'VGB' 'VIR' 'VNM' 'VUT' 'WLD' 'WSM' 'XKX' 'YEM' 'ZAF'\n",
      " 'ZMB' 'ZWE']\n",
      "Data cleaning and merging successful.\n",
      "Empty DataFrame\n",
      "Columns: [Population code (ISO/UN), ASR (World) per 100 000, Country Code, GDP]\n",
      "Index: []\n"
     ]
    },
    {
     "name": "stderr",
     "output_type": "stream",
     "text": [
      "C:\\Users\\PESOS\\AppData\\Local\\Temp\\ipykernel_21112\\4157656548.py:15: FutureWarning: Setting an item of incompatible dtype is deprecated and will raise in a future error of pandas. Value '['4' '8' '12' '24' '31' '32' '36' '40' '44' '48' '50' '51' '52' '56' '64'\n",
      " '68' '70' '72' '76' '84' '90' '96' '100' '104' '108' '112' '116' '120'\n",
      " '124' '132' '140' '144' '148' '152' '156' '170' '174' '178' '180' '188'\n",
      " '191' '192' '196' '203' '204' '208' '214' '218' '222' '226' '231' '232'\n",
      " '233' '242' '246' '250' '254' '258' '262' '266' '268' '270' '275' '276'\n",
      " '288' '300' '312' '316' '320' '324' '328' '332' '340' '348' '352' '356'\n",
      " '360' '364' '368' '372' '376' '380' '384' '388' '392' '398' '400' '404'\n",
      " '408' '410' '414' '417' '418' '422' '426' '428' '430' '434' '440' '442'\n",
      " '450' '454' '458' '462' '466' '470' '474' '478' '480' '484' '496' '498'\n",
      " '499' '504' '508' '512' '516' '524' '528' '540' '548' '554' '558' '562'\n",
      " '566' '578' '586' '591' '598' '600' '604' '608' '616' '620' '624' '626'\n",
      " '630' '634' '638' '642' '643' '646' '662' '678' '682' '686' '688' '694'\n",
      " '702' '703' '704' '705' '706' '710' '716' '724' '728' '729' '740' '748'\n",
      " '752' '756' '760' '762' '764' '768' '780' '784' '788' '792' '795' '800'\n",
      " '804' '807' '818' '826' '834' '840' '854' '858' '860' '862' '882' '887'\n",
      " '894']' has dtype incompatible with int64, please explicitly cast to a compatible dtype first.\n",
      "  breast_clean.loc[:, 'Population code (ISO/UN)'] = breast_clean['Population code (ISO/UN)'].astype(str) # Use .loc\n"
     ]
    }
   ],
   "source": [
    "import pandas as pd\n",
    "\n",
    "# Load data\n",
    "breast_data = pd.read_csv('../../data/breast-country.csv')\n",
    "gdp_data = pd.read_csv('../../data/gdp.csv', skiprows=4)\n",
    "\n",
    "# Load country code mapping from CSV\n",
    "country_code_mapping_df = pd.read_csv('country_code_mapping.csv', dtype={'numeric_code': str, 'alpha3_code': str})\n",
    "country_code_mapping = dict(zip(country_code_mapping_df['numeric_code'], country_code_mapping_df['alpha3_code']))\n",
    "\n",
    "def clean_and_merge():\n",
    "    # Keep relevant columns\n",
    "    gdp_clean = gdp_data[['Country Code', '2023']].rename(columns={'2023': 'GDP'})\n",
    "\n",
    "    # Convert 'Country Code' to string in gdp_clean\n",
    "    gdp_clean['Country Code'] = gdp_clean['Country Code'].astype(str)\n",
    "\n",
    "    breast_clean = breast_data[['Population code (ISO/UN)', 'ASR (World) per 100 000']].copy() # Create a copy\n",
    "    breast_clean.loc[:, 'Population code (ISO/UN)'] = breast_clean['Population code (ISO/UN)'].astype(str) # Use .loc\n",
    "\n",
    "    # Map numeric codes to alpha-3 codes\n",
    "    breast_clean['Country Code'] = breast_clean['Population code (ISO/UN)'].map(country_code_mapping)\n",
    "\n",
    "    # Drop rows where mapping is not available (important!)\n",
    "    breast_clean = breast_clean.dropna(subset=['Country Code'])\n",
    "\n",
    "    # Merge datasets\n",
    "    merged = pd.merge(\n",
    "        breast_clean,\n",
    "        gdp_clean,\n",
    "        on='Country Code',  # Use 'on' when column names are the same\n",
    "        how='inner'\n",
    "    )\n",
    "\n",
    "    # Clean numerical data\n",
    "    merged['GDP'] = pd.to_numeric(merged['GDP'], errors='coerce')\n",
    "    merged['ASR (World) per 100 000'] = pd.to_numeric(merged['ASR (World) per 100 000'], errors='coerce')\n",
    "\n",
    "    return merged.dropna()\n",
    "\n",
    "df = clean_and_merge()\n",
    "\n",
    "if df is None or df.empty:\n",
    "    print(\"Data cleaning and merging failed.  Check file paths, data integrity, and country code mapping.\")\n",
    "else:\n",
    "    print(\"Data cleaning and merging successful.\")\n",
    "    print(df.head())"
   ]
  },
  {
   "cell_type": "code",
   "execution_count": null,
   "metadata": {},
   "outputs": [],
   "source": [
    "# %%\n",
    "if df is not None and not df.empty:\n",
    "    # Calculate correlation coefficient\n",
    "    corr_coef = correlation(df['GDP'], df['ASR (World) per 100 000'])\n",
    "    print(f\"Correlation Coefficient: {corr_coef:.3f}\")\n",
    "\n",
    "    # Calculate covariance\n",
    "    covar = covariance(df['GDP'], df['ASR (World) per 100 000'])\n",
    "    print(f\"Covariance: {covar:.3f}\")\n",
    "else:\n",
    "    print(\"Cannot calculate correlation. DataFrame is empty or None.\")"
   ]
  },
  {
   "cell_type": "code",
   "execution_count": null,
   "metadata": {},
   "outputs": [],
   "source": [
    "# %%\n",
    "if df is not None and not df.empty:\n",
    "    # Calculate regression slope\n",
    "    slope = regression_slope(df['GDP'], df['ASR (World) per 100 000'])\n",
    "    print(f\"Regression Slope: {slope:.3f}\")\n",
    "\n",
    "    # Calculate y-intercept\n",
    "    intercept = y_intercept(df['GDP'], df['ASR (World) per 100 000'])\n",
    "    print(f\"Y-Intercept: {intercept:.3f}\")\n",
    "else:\n",
    "    print(\"Cannot calculate regression. DataFrame is empty or None.\")"
   ]
  },
  {
   "cell_type": "code",
   "execution_count": null,
   "metadata": {},
   "outputs": [],
   "source": [
    "# %%\n",
    "if df is not None and not df.empty:\n",
    "    gh.scatter_with_regression(\n",
    "        x=df['GDP'],\n",
    "        y=df['ASR (World) per 100 000'],\n",
    "        x_label='GDP (current US$)',\n",
    "        y_label='Age-Standardized Rate per 100k',\n",
    "        title='Breast Cancer ASR vs GDP (2023)'\n",
    "    )\n",
    "else:\n",
    "    print(\"Cannot create visualization. DataFrame is empty or None.\")"
   ]
  }
 ],
 "metadata": {
  "kernelspec": {
   "display_name": "venv",
   "language": "python",
   "name": "python3"
  },
  "language_info": {
   "codemirror_mode": {
    "name": "ipython",
    "version": 3
   },
   "file_extension": ".py",
   "mimetype": "text/x-python",
   "name": "python",
   "nbconvert_exporter": "python",
   "pygments_lexer": "ipython3",
   "version": "3.13.1"
  }
 },
 "nbformat": 4,
 "nbformat_minor": 2
}
