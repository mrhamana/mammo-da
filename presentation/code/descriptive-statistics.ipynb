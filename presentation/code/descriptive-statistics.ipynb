{
 "cells": [
  {
   "cell_type": "code",
   "execution_count": 1,
   "metadata": {},
   "outputs": [],
   "source": [
    "# pythonside/main.ipynb - Cell 1: Import Libraries\n",
    "import sys\n",
    "sys.path.append('../../pythonside')\n",
    "\n",
    "import extract_data as ed\n",
    "import numpy as np\n",
    "from functions import (\n",
    "    mean, mode, median, smallest, largest, coff_range, mean_dev, correlation, y_intercept, percentile,skewness, kurtosis, central_moments,\n",
    "    pearson_skewness, bowley_skewness, r_squared,\n",
    "    regression_slope, covariance, coefficient_sd,\n",
    "    coefficient_variation, midrange, iqr,\n",
    "    quartile_deviation, decile, raw_moments, normal_pdf, standard_deviation, n_quartile\n",
    ")\n",
    "import graph as gh"
   ]
  },
  {
   "cell_type": "code",
   "execution_count": 2,
   "metadata": {},
   "outputs": [
    {
     "name": "stdout",
     "output_type": "stream",
     "text": [
      "d:\\Downloads\\mammo_da final\\presentation\\code\n"
     ]
    }
   ],
   "source": [
    "import os\n",
    "print(os.getcwd())"
   ]
  },
  {
   "cell_type": "code",
   "execution_count": 3,
   "metadata": {},
   "outputs": [],
   "source": [
    "# pythonside/main.ipynb - Cell 2: File and Titles\n",
    "file='../../data/breast-country.csv'\n",
    "titles=ed.titles(file)"
   ]
  },
  {
   "cell_type": "code",
   "execution_count": 4,
   "metadata": {},
   "outputs": [],
   "source": [
    "# pythonside/main.ipynb - Cell 3: Extract Data\n",
    "# Extract the ASR (World) per 100 000 data\n",
    "column_name, asr_data = ed.extractinfo(file, [7, 'ASR (World) per 100 000'])"
   ]
  },
  {
   "cell_type": "code",
   "execution_count": 6,
   "metadata": {},
   "outputs": [],
   "source": [
    "# pythonside/main.ipynb - Cell 4: Calculate Descriptive Statistics\n",
    "# Calculate descriptive statistics\n",
    "asr_mean = mean(asr_data)\n",
    "asr_median = median(asr_data)\n",
    "asr_mode = mode(asr_data)\n",
    "asr_smallest = smallest(asr_data)\n",
    "asr_largest = largest(asr_data)\n",
    "asr_range = asr_largest - asr_smallest\n",
    "asr_coff_range = coff_range(asr_largest, asr_smallest)\n",
    "asr_mean_dev = mean_dev(asr_data)\n",
    "#asr_mean_dev_median = mean_dev_median(asr_data) # Assuming you have this function\n",
    "asr_standard_deviation = standard_deviation(asr_data)\n",
    "asr_variance = standard_deviation(asr_data)**2\n",
    "asr_coefficient_sd = coefficient_sd(asr_data, asr_mean)\n",
    "asr_coefficient_variation = coefficient_variation(asr_data, asr_mean)\n",
    "asr_iqr = iqr(asr_data)\n",
    "asr_quartile_deviation = quartile_deviation(asr_data)\n",
    "asr_midrange = midrange(asr_data)\n",
    "\n",
    "# Correctly calculate quartiles, deciles, and percentiles\n",
    "asr_quartiles = [n_quartile(sorted(asr_data), i) for i in [0.25, 0.5, 0.75]]  # Use sorted()\n",
    "asr_deciles = [decile(sorted(asr_data), i) for i in range(1, 10)]\n",
    "asr_percentiles = [percentile(sorted(asr_data), i) for i in range(1, 100)]"
   ]
  },
  {
   "cell_type": "code",
   "execution_count": 8,
   "metadata": {},
   "outputs": [
    {
     "name": "stdout",
     "output_type": "stream",
     "text": [
      "Mean: 47.792054054054056\n",
      "Median: 45.44\n",
      "Mode: [0.0]\n",
      "Minimum: 0.0\n",
      "Maximum: 105.42\n",
      "Range: 105.42\n",
      "Coefficient of Range: 1.0\n",
      "Mean Deviation: 19.88585478451423\n",
      "Standard Deviation: 24.598386857176695\n",
      "Variance: 605.0806359753232\n",
      "Coefficient of SD: 0.5146961632859571\n",
      "Coefficient of Variation: 51.46961632859571\n",
      "IQR: 33.370000000000005\n",
      "Quartile Deviation: 16.685000000000002\n",
      "Midrange: 52.71\n",
      "Quartiles (Q1, Q2, Q3): [14.30875, 23.1075, 26.353749999999998]\n",
      "Deciles (D1-D9): [20.498, 27.092000000000002, 32.952, 38.162, 45.44, 51.284, 58.37, 69.84400000000004, 84.72399999999998]\n",
      "Percentiles (P1-P99): [0.0, 0.0, 2.3711999999999978, 8.856000000000002, 12.952000000000002, 14.383199999999999, 15.8576, 18.158400000000004, 19.5932, 20.498, 21.6968, 23.0548, 23.3952, 24.717200000000002, 25.178, 25.2932, 25.328400000000002, 26.1952, 26.5912, 27.092000000000002, 27.536, 27.886, 28.695600000000002, 29.4432, 29.6, 30.2512, 30.810400000000005, 31.39, 32.484, 32.952, 33.2724, 33.9132, 34.4532, 35.611200000000004, 36.25999999999999, 37.059999999999995, 37.5452, 37.7292, 37.9168, 38.162, 38.800399999999996, 39.3448, 39.6148, 39.8324, 39.94, 40.5612, 40.8964, 41.5148, 43.2512, 45.44, 46.080400000000004, 46.2916, 46.47880000000001, 46.757200000000005, 47.128, 47.833600000000004, 48.992, 49.647999999999996, 50.462399999999995, 51.284, 51.728, 52.6064, 52.8088, 53.8004, 54.84000000000001, 56.088400000000014, 56.9492, 57.6784, 57.884, 58.37, 59.44999999999998, 60.2984, 60.813599999999994, 61.94199999999999, 62.74, 63.1104, 65.07520000000001, 65.9552, 67.99120000000002, 69.84400000000004, 71.12800000000001, 71.83919999999999, 72.58200000000001, 74.53, 75.58200000000001, 76.65520000000001, 77.52560000000001, 80.78239999999997, 82.0636, 84.72399999999998, 87.7052, 88.75, 90.3324, 92.29479999999998, 94.294, 95.5096, 97.72919999999996, 101.5116, 104.4476]\n"
     ]
    }
   ],
   "source": [
    "# pythonside/main.ipynb - Cell 5: Print the Results\n",
    "# Print the results\n",
    "print(f\"Mean: {asr_mean}\")\n",
    "print(f\"Median: {asr_median}\")\n",
    "print(f\"Mode: {asr_mode}\")\n",
    "print(f\"Minimum: {asr_smallest}\")\n",
    "print(f\"Maximum: {asr_largest}\")\n",
    "print(f\"Range: {asr_range}\")\n",
    "print(f\"Coefficient of Range: {asr_coff_range}\")\n",
    "print(f\"Mean Deviation: {asr_mean_dev}\")\n",
    "#print(f\"Mean Deviation (Median): {asr_mean_dev_median}\")\n",
    "print(f\"Standard Deviation: {asr_standard_deviation}\")\n",
    "print(f\"Variance: {asr_variance}\")\n",
    "print(f\"Coefficient of SD: {asr_coefficient_sd}\")\n",
    "print(f\"Coefficient of Variation: {asr_coefficient_variation}\")\n",
    "print(f\"IQR: {asr_iqr}\")\n",
    "print(f\"Quartile Deviation: {asr_quartile_deviation}\")\n",
    "print(f\"Midrange: {asr_midrange}\")\n",
    "print(f\"Quartiles (Q1, Q2, Q3): {asr_quartiles}\")\n",
    "print(f\"Deciles (D1-D9): {asr_deciles}\")\n",
    "print(f\"Percentiles (P1-P99): {asr_percentiles}\")"
   ]
  }
 ],
 "metadata": {
  "kernelspec": {
   "display_name": "venv",
   "language": "python",
   "name": "python3"
  },
  "language_info": {
   "codemirror_mode": {
    "name": "ipython",
    "version": 3
   },
   "file_extension": ".py",
   "mimetype": "text/x-python",
   "name": "python",
   "nbconvert_exporter": "python",
   "pygments_lexer": "ipython3",
   "version": "3.12.6"
  }
 },
 "nbformat": 4,
 "nbformat_minor": 2
}
